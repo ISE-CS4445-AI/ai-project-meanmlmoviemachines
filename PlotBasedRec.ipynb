{
 "cells": [
  {
   "cell_type": "code",
   "execution_count": 2,
   "metadata": {},
   "outputs": [],
   "source": [
    "import pandas as pd \n",
    "import numpy as np \n",
    "from sklearn.feature_extraction.text import TfidfVectorizer\n",
    "from sklearn.metrics.pairwise import linear_kernel\n",
    "df2=pd.read_csv(\"./tmdb_5000_movies.csv\")"
   ]
  },
  {
   "cell_type": "code",
   "execution_count": 7,
   "metadata": {},
   "outputs": [
    {
     "data": {
      "text/html": [
       "<div>\n",
       "<style scoped>\n",
       "    .dataframe tbody tr th:only-of-type {\n",
       "        vertical-align: middle;\n",
       "    }\n",
       "\n",
       "    .dataframe tbody tr th {\n",
       "        vertical-align: top;\n",
       "    }\n",
       "\n",
       "    .dataframe thead th {\n",
       "        text-align: right;\n",
       "    }\n",
       "</style>\n",
       "<table border=\"1\" class=\"dataframe\">\n",
       "  <thead>\n",
       "    <tr style=\"text-align: right;\">\n",
       "      <th></th>\n",
       "      <th>id</th>\n",
       "      <th>overview</th>\n",
       "      <th>title</th>\n",
       "    </tr>\n",
       "  </thead>\n",
       "  <tbody>\n",
       "    <tr>\n",
       "      <th>0</th>\n",
       "      <td>19995</td>\n",
       "      <td>In the 22nd century, a paraplegic Marine is di...</td>\n",
       "      <td>Avatar</td>\n",
       "    </tr>\n",
       "    <tr>\n",
       "      <th>1</th>\n",
       "      <td>285</td>\n",
       "      <td>Captain Barbossa, long believed to be dead, ha...</td>\n",
       "      <td>Pirates of the Caribbean: At World's End</td>\n",
       "    </tr>\n",
       "    <tr>\n",
       "      <th>2</th>\n",
       "      <td>206647</td>\n",
       "      <td>A cryptic message from Bond’s past sends him o...</td>\n",
       "      <td>Spectre</td>\n",
       "    </tr>\n",
       "    <tr>\n",
       "      <th>3</th>\n",
       "      <td>49026</td>\n",
       "      <td>Following the death of District Attorney Harve...</td>\n",
       "      <td>The Dark Knight Rises</td>\n",
       "    </tr>\n",
       "    <tr>\n",
       "      <th>4</th>\n",
       "      <td>49529</td>\n",
       "      <td>John Carter is a war-weary, former military ca...</td>\n",
       "      <td>John Carter</td>\n",
       "    </tr>\n",
       "  </tbody>\n",
       "</table>\n",
       "</div>"
      ],
      "text/plain": [
       "       id                                           overview  \\\n",
       "0   19995  In the 22nd century, a paraplegic Marine is di...   \n",
       "1     285  Captain Barbossa, long believed to be dead, ha...   \n",
       "2  206647  A cryptic message from Bond’s past sends him o...   \n",
       "3   49026  Following the death of District Attorney Harve...   \n",
       "4   49529  John Carter is a war-weary, former military ca...   \n",
       "\n",
       "                                      title  \n",
       "0                                    Avatar  \n",
       "1  Pirates of the Caribbean: At World's End  \n",
       "2                                   Spectre  \n",
       "3                     The Dark Knight Rises  \n",
       "4                               John Carter  "
      ]
     },
     "execution_count": 7,
     "metadata": {},
     "output_type": "execute_result"
    }
   ],
   "source": [
    "# Specify the CSV file path\n",
    "csv_file_path = 'tmdb_5000_movies.csv'  # Replace with your actual file path\n",
    "\n",
    "# Read the CSV file while selecting only the required columns\n",
    "df = pd.read_csv(csv_file_path, usecols=['id', 'title', 'overview'])\n",
    "\n",
    "# Optionally drop rows with missing overviews to avoid errors during vectorisation\n",
    "df.dropna(subset=['overview'], inplace=True)\n",
    "df.reset_index(drop=True, inplace=True)\n",
    "\n",
    "# Display the first few rows to verify the correct columns are loaded\n",
    "df.head()\n"
   ]
  },
  {
   "cell_type": "code",
   "execution_count": 9,
   "metadata": {},
   "outputs": [],
   "source": [
    "# Initialise the TfidfVectoriser using English stop words\n",
    "tfidf = TfidfVectorizer(stop_words='english')\n",
    "\n",
    "# Fit and transform the 'overview' column into a TF-IDF matrix\n",
    "tfidf_matrix = tfidf.fit_transform(df['overview'])\n",
    "\n",
    "# Compute cosine similarity matrix from the TF-IDF matrix\n",
    "cosine_sim = linear_kernel(tfidf_matrix, tfidf_matrix)\n",
    "\n"
   ]
  },
  {
   "cell_type": "code",
   "execution_count": 18,
   "metadata": {},
   "outputs": [],
   "source": [
    "# Create a Series mapping movie titles to DataFrame indices\n",
    "indices = pd.Series(df.index, index=df['title']).drop_duplicates()\n",
    "\n",
    "def get_recommendations(title, cosine_sim=cosine_sim):\n",
    "    \"\"\"\n",
    "    Given a movie title, return the top recommendations based on plot similarity.\n",
    "\n",
    "    Parameters:\n",
    "        title (str): The title of the movie.\n",
    "        cosine_sim (ndarray): Precomputed cosine similarity matrix.\n",
    "        \n",
    "    Returns:\n",
    "        list: A list of recommended movie titles.\n",
    "    \"\"\"\n",
    "    # Retrieve the index for the movie that matches the title\n",
    "    idx = indices.get(title)\n",
    "    \n",
    "    # If the title is not found, return an empty list\n",
    "    if idx is None:\n",
    "        print(f\"Title '{title}' not found in dataset.\")\n",
    "        return []\n",
    "    \n",
    "    # Enumerate over the similarity scores and sort them in descending order\n",
    "    sim_scores = list(enumerate(cosine_sim[idx]))\n",
    "    sim_scores = sorted(sim_scores, key=lambda x: x[1], reverse=True)\n",
    "    \n",
    "    # Exclude the first entry (the movie itself) and select the next top 10 recommendations\n",
    "    sim_scores = sim_scores[1:11]\n",
    "    \n",
    "    # Retrieve the indices of the recommended movies\n",
    "    movie_indices = [i[0] for i in sim_scores]\n",
    "    \n",
    "    # Return the titles of the recommended movies\n",
    "    return df['title'].iloc[movie_indices].tolist(), sim_scores\n"
   ]
  },
  {
   "cell_type": "code",
   "execution_count": null,
   "metadata": {},
   "outputs": [
    {
     "name": "stdout",
     "output_type": "stream",
     "text": [
      "Recommendations for 'Forrest Gump':\n",
      "An American Haunting\n",
      "Heaven is for Real\n",
      "Niagara\n",
      "The Shaggy Dog\n",
      "Room\n",
      "Frozen\n",
      "Love in the Time of Cholera\n",
      "Lovely, Still\n",
      "Mr. Bean's Holiday\n",
      "I Married a Strange Person!\n",
      "[(2685, np.float64(0.15962640204016756)), (2903, np.float64(0.11886080080825893)), (4285, np.float64(0.11589609863543196)), (725, np.float64(0.1042650018990765)), (2759, np.float64(0.1033232292122484)), (124, np.float64(0.0996770447464312)), (1098, np.float64(0.09814023050733961)), (3648, np.float64(0.09539959674535414)), (1871, np.float64(0.09310460038833449)), (4638, np.float64(0.09093249895809938))]\n"
     ]
    },
    {
     "ename": "",
     "evalue": "",
     "output_type": "error",
     "traceback": [
      "\u001b[1;31mThe Kernel crashed while executing code in the current cell or a previous cell. \n",
      "\u001b[1;31mPlease review the code in the cell(s) to identify a possible cause of the failure. \n",
      "\u001b[1;31mClick <a href='https://aka.ms/vscodeJupyterKernelCrash'>here</a> for more info. \n",
      "\u001b[1;31mView Jupyter <a href='command:jupyter.viewOutput'>log</a> for further details."
     ]
    }
   ],
   "source": [
    "# Test the recommendation function with an example title\n",
    "example_title = \"Forrest Gump\"  # Replace with an actual title from your dataset\n",
    "recommendations, sscores = get_recommendations(example_title)\n",
    "\n",
    "print(f\"Recommendations for '{example_title}':\")\n",
    "for rec in recommendations:\n",
    "    print(rec)\n",
    "print(sscores)\n"
   ]
  }
 ],
 "metadata": {
  "kernelspec": {
   "display_name": "Python 3",
   "language": "python",
   "name": "python3"
  },
  "language_info": {
   "codemirror_mode": {
    "name": "ipython",
    "version": 3
   },
   "file_extension": ".py",
   "mimetype": "text/x-python",
   "name": "python",
   "nbconvert_exporter": "python",
   "pygments_lexer": "ipython3",
   "version": "3.12.8"
  }
 },
 "nbformat": 4,
 "nbformat_minor": 2
}
